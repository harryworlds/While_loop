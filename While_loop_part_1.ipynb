{
 "cells": [
  {
   "cell_type": "markdown",
   "id": "f833eb3b",
   "metadata": {},
   "source": [
    "# While loops part 1"
   ]
  },
  {
   "cell_type": "markdown",
   "id": "517dfec8",
   "metadata": {},
   "source": [
    "#### 1. While loop less than 10"
   ]
  },
  {
   "cell_type": "code",
   "execution_count": 27,
   "id": "4a1703d9",
   "metadata": {
    "scrolled": true
   },
   "outputs": [
    {
     "name": "stdout",
     "output_type": "stream",
     "text": [
      "1\n",
      "2\n",
      "3\n",
      "4\n",
      "5\n",
      "6\n",
      "7\n",
      "8\n",
      "9\n"
     ]
    }
   ],
   "source": [
    "var = 1 #initial value for variable\n",
    "while var<10: #Condition declaration \n",
    "    print(var) #print staement for var\n",
    "    var = var+1 #one will be added until value become less than 10"
   ]
  },
  {
   "cell_type": "markdown",
   "id": "823abd60",
   "metadata": {},
   "source": [
    "#### 2. While loop equal to 10"
   ]
  },
  {
   "cell_type": "code",
   "execution_count": 30,
   "id": "ceb195c9",
   "metadata": {},
   "outputs": [
    {
     "name": "stdout",
     "output_type": "stream",
     "text": [
      "1\n",
      "2\n",
      "3\n",
      "4\n",
      "5\n",
      "6\n",
      "7\n",
      "8\n",
      "9\n",
      "10\n"
     ]
    }
   ],
   "source": [
    "var = 1 #initial value for variable\n",
    "while var<=10: #Condition declaration \n",
    "    print(var) #print staement for var\n",
    "    var = var+1 #one will be added until value become less than 10"
   ]
  },
  {
   "cell_type": "markdown",
   "id": "da86236e",
   "metadata": {},
   "source": [
    "#### 3. Password case sensitive"
   ]
  },
  {
   "cell_type": "code",
   "execution_count": 35,
   "id": "868894e8",
   "metadata": {},
   "outputs": [
    {
     "name": "stdout",
     "output_type": "stream",
     "text": [
      "Enter password: asa\n",
      "incorrect password\n",
      "Enter password: helloworld\n",
      "correct password\n"
     ]
    }
   ],
   "source": [
    "while True:\n",
    "    password = input(\"Enter password: \")\n",
    "    if password == \"helloworld\":\n",
    "        print(\"correct password\")\n",
    "        break\n",
    "    else:\n",
    "        print(\"incorrect password\")"
   ]
  },
  {
   "cell_type": "markdown",
   "id": "5efb9062",
   "metadata": {},
   "source": [
    "#### 4. Write a program to print following using while loop\n",
    "a. first 10 even number\n",
    "\n",
    "b. first 10 odd number\n",
    "\n",
    "c. first 10 whole number\n",
    "\n",
    "c. first 10 natural number"
   ]
  },
  {
   "cell_type": "markdown",
   "id": "c27ac205",
   "metadata": {},
   "source": [
    "Solved: First ten even number"
   ]
  },
  {
   "cell_type": "code",
   "execution_count": 44,
   "id": "a3ea4c74",
   "metadata": {
    "collapsed": true
   },
   "outputs": [
    {
     "name": "stdout",
     "output_type": "stream",
     "text": [
      "2\n",
      "4\n",
      "6\n",
      "8\n",
      "10\n",
      "12\n",
      "14\n",
      "16\n",
      "18\n",
      "20\n",
      "22\n"
     ]
    }
   ],
   "source": [
    "number = 0\n",
    "while number<=20:\n",
    "    number = number + 2\n",
    "    print(number)"
   ]
  },
  {
   "cell_type": "markdown",
   "id": "c376bb4b",
   "metadata": {},
   "source": [
    "Solved: First ten odd number"
   ]
  },
  {
   "cell_type": "code",
   "execution_count": 54,
   "id": "83653d25",
   "metadata": {
    "collapsed": true
   },
   "outputs": [
    {
     "name": "stdout",
     "output_type": "stream",
     "text": [
      "1\n",
      "3\n",
      "5\n",
      "7\n",
      "9\n",
      "11\n",
      "13\n",
      "15\n",
      "17\n",
      "19\n"
     ]
    }
   ],
   "source": [
    "number = 1\n",
    "while number<=20:\n",
    "    print(number)\n",
    "    number = number + 2 "
   ]
  },
  {
   "cell_type": "markdown",
   "id": "cbcee1e9",
   "metadata": {},
   "source": [
    "Solved: First ten whole number"
   ]
  },
  {
   "cell_type": "code",
   "execution_count": 66,
   "id": "ce769f3b",
   "metadata": {
    "collapsed": true
   },
   "outputs": [
    {
     "name": "stdout",
     "output_type": "stream",
     "text": [
      "0\n",
      "1\n",
      "2\n",
      "3\n",
      "4\n",
      "5\n",
      "6\n",
      "7\n",
      "8\n",
      "9\n"
     ]
    }
   ],
   "source": [
    "number = 0\n",
    "while number<=9:\n",
    "    print(number)\n",
    "    number = number + 1"
   ]
  },
  {
   "cell_type": "markdown",
   "id": "f2000a8d",
   "metadata": {},
   "source": [
    "Solved: First ten natural number"
   ]
  },
  {
   "cell_type": "code",
   "execution_count": 63,
   "id": "19c11ed2",
   "metadata": {
    "collapsed": true
   },
   "outputs": [
    {
     "name": "stdout",
     "output_type": "stream",
     "text": [
      "1\n",
      "2\n",
      "3\n",
      "4\n",
      "5\n",
      "6\n",
      "7\n",
      "8\n",
      "9\n",
      "10\n"
     ]
    }
   ],
   "source": [
    "number = 1\n",
    "while number<=10:\n",
    "    print(number)\n",
    "    number = number + 1"
   ]
  },
  {
   "cell_type": "markdown",
   "id": "96943b6c",
   "metadata": {},
   "source": [
    "#### 5. Write programe to print first 10, 16 and 24integers and their squares using while loop and store into list"
   ]
  },
  {
   "cell_type": "code",
   "execution_count": 155,
   "id": "c87797d1",
   "metadata": {
    "scrolled": true
   },
   "outputs": [
    {
     "name": "stdout",
     "output_type": "stream",
     "text": [
      "1 4 9 16 25 36 49 64 81 100 \n",
      "[1, 4, 9, 16, 25, 36, 49, 64, 81, 100]\n"
     ]
    }
   ],
   "source": [
    "number = 1\n",
    "list = []\n",
    "while number<=10:\n",
    "    list.append(number**2)\n",
    "    print(number**2, end=\" \")\n",
    "    number = number + 1\n",
    "print()\n",
    "print(list)"
   ]
  },
  {
   "cell_type": "code",
   "execution_count": 150,
   "id": "0ba715df",
   "metadata": {},
   "outputs": [
    {
     "name": "stdout",
     "output_type": "stream",
     "text": [
      "1 4 9 16 25 36 49 64 81 100 121 144 169 196 225 256 \n",
      "[1, 4, 9, 16, 25, 36, 49, 64, 81, 100, 121, 144, 169, 196, 225, 256]\n"
     ]
    }
   ],
   "source": [
    "number = 1\n",
    "list = []\n",
    "while number<=16:\n",
    "    list.append(number**2)\n",
    "    print(number**2, end=\" \")\n",
    "    number = number + 1\n",
    "print()\n",
    "print(list)"
   ]
  },
  {
   "cell_type": "code",
   "execution_count": 149,
   "id": "f060dc33",
   "metadata": {},
   "outputs": [
    {
     "name": "stdout",
     "output_type": "stream",
     "text": [
      "1 4 9 16 25 36 49 64 81 100 121 144 169 196 225 256 289 324 361 400 441 484 529 576 \n",
      "[1, 4, 9, 16, 25, 36, 49, 64, 81, 100, 121, 144, 169, 196, 225, 256, 289, 324, 361, 400, 441, 484, 529, 576]\n"
     ]
    }
   ],
   "source": [
    "number = 1\n",
    "list = []\n",
    "while number<=24:\n",
    "    list.append(number**2)\n",
    "    print(number**2, end=\" \")\n",
    "    number = number + 1\n",
    "print()\n",
    "print(list)"
   ]
  },
  {
   "cell_type": "markdown",
   "id": "61449929",
   "metadata": {},
   "source": [
    "#### 6. While loop statement for printing series 10,20,30....300"
   ]
  },
  {
   "cell_type": "code",
   "execution_count": 148,
   "id": "915e5879",
   "metadata": {},
   "outputs": [
    {
     "name": "stdout",
     "output_type": "stream",
     "text": [
      "0 10 20 30 40 50 60 70 80 90 100 110 120 130 140 150 160 170 180 190 200 210 220 230 240 250 260 270 280 290 300 "
     ]
    }
   ],
   "source": [
    "number = 0\n",
    "while number<=300:\n",
    "    print(number, end=\" \")\n",
    "    number = number + 10"
   ]
  },
  {
   "cell_type": "markdown",
   "id": "6688fd13",
   "metadata": {},
   "source": [
    "#### 7. Write a program to print following using while loop, 10 natural number in reverse order"
   ]
  },
  {
   "cell_type": "code",
   "execution_count": 4,
   "id": "ade25ea4",
   "metadata": {},
   "outputs": [
    {
     "name": "stdout",
     "output_type": "stream",
     "text": [
      "10\n",
      "9\n",
      "8\n",
      "7\n",
      "6\n",
      "5\n",
      "4\n",
      "3\n",
      "2\n",
      "1\n"
     ]
    }
   ],
   "source": [
    "number = 10\n",
    "while number>=1:\n",
    "    print(number)\n",
    "    number = number - 1"
   ]
  },
  {
   "cell_type": "markdown",
   "id": "9683f327",
   "metadata": {},
   "source": [
    "#### 8.  Write programe to print sum of 10 natural number"
   ]
  },
  {
   "cell_type": "code",
   "execution_count": 31,
   "id": "b8a157bc",
   "metadata": {},
   "outputs": [
    {
     "name": "stdout",
     "output_type": "stream",
     "text": [
      "10\n",
      "9\n",
      "8\n",
      "7\n",
      "6\n",
      "5\n",
      "4\n",
      "3\n",
      "2\n",
      "1\n",
      "\n",
      "Total sum: 55\n"
     ]
    }
   ],
   "source": [
    "number = 10\n",
    "sum = 0\n",
    "while number>=1:\n",
    "    print(number)\n",
    "    sum = sum + number\n",
    "    number = number - 1\n",
    "print()\n",
    "print(\"Total sum:\", sum)"
   ]
  },
  {
   "cell_type": "markdown",
   "id": "45fe01d7",
   "metadata": {},
   "source": [
    "#### 9. Write a programe in while loop for a multiplication table and value need to be enter by user"
   ]
  },
  {
   "cell_type": "code",
   "execution_count": 98,
   "id": "810e2b43",
   "metadata": {
    "scrolled": true
   },
   "outputs": [
    {
     "name": "stdout",
     "output_type": "stream",
     "text": [
      "Enter number for Multiplication table: 16384\n",
      "16384 x 1 = 16384\n",
      "16384 x 2 = 32768\n",
      "16384 x 3 = 49152\n",
      "16384 x 4 = 65536\n",
      "16384 x 5 = 81920\n",
      "16384 x 6 = 98304\n",
      "16384 x 7 = 114688\n",
      "16384 x 8 = 131072\n",
      "16384 x 9 = 147456\n",
      "16384 x 10 = 163840\n"
     ]
    }
   ],
   "source": [
    "number = int(input(\"Enter number for Multiplication table: \"))\n",
    "iterate = 1\n",
    "while iterate<=10:\n",
    "    print(number, \"x\", iterate, \"=\", number*iterate )\n",
    "    iterate = iterate + 1"
   ]
  }
 ],
 "metadata": {
  "kernelspec": {
   "display_name": "Python 3 (ipykernel)",
   "language": "python",
   "name": "python3"
  },
  "language_info": {
   "codemirror_mode": {
    "name": "ipython",
    "version": 3
   },
   "file_extension": ".py",
   "mimetype": "text/x-python",
   "name": "python",
   "nbconvert_exporter": "python",
   "pygments_lexer": "ipython3",
   "version": "3.9.12"
  }
 },
 "nbformat": 4,
 "nbformat_minor": 5
}
